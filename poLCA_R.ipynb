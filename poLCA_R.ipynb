{
 "cells": [
  {
   "cell_type": "markdown",
   "metadata": {},
   "source": [
    "# poLCA_R\n",
    "## Polytomous variable Latent Class Analysis\n",
    "(多分岐可変潜在クラス分析)"
   ]
  },
  {
   "cell_type": "markdown",
   "metadata": {},
   "source": [
    "## インストールログ\n",
    "* 以下ではエラーとなった。\n",
    "\n",
    "```\n",
    "#潜在クラス分析テスト　←2017/7/3\n",
    "install.packages(\"poLCA\", dependencies = TRUE)\n",
    "library(poLCA)\n",
    "library(xlsx)　　#ライブラリーの読み込み\n",
    "----\n",
    "Error in contrib.url(repos, \"source\"): trying to use CRAN without setting a mirror\n",
    "Traceback:\n",
    "\n",
    "1. install.packages(\"poLCA\", dependencies = TRUE)\n",
    "2. contrib.url(repos, \"source\")\n",
    "3. stop(\"trying to use CRAN without setting a mirror\")\n",
    "```\n",
    "\n",
    "----\n",
    "\n",
    "* そこで、\n",
    "[How do I set a CRAN mirrror to install an R package in Jupyter? · Issue #234 · IRkernel/IRkernel](https://github.com/IRkernel/IRkernel/issues/234)  \n",
    "を参照して、\n",
    "\n",
    "```\n",
    "country.code <- 'ja'  # use yours\n",
    "url.pattern <- 'http://'  # use http if you want\n",
    "repo.data.frame <- subset(getCRANmirrors(), CountryCode == country.code & grepl(url.pattern, URL))\n",
    "options(repos = repo.data.frame$URL)\n",
    "```\n",
    "\n",
    "    をやってみたが、うまくいかなかった。\n",
    "\n",
    "----\n",
    "\n",
    "* そこで、\n",
    "[CRAN国内ミラーの使い方 - RjpWiki](http://www.okadajp.org/RWiki/?CRAN%E5%9B%BD%E5%86%85%E3%83%9F%E3%83%A9%E3%83%BC%E3%81%AE%E4%BD%BF%E3%81%84%E6%96%B9)  \n",
    "をみて\n",
    "\n",
    "```\n",
    "options(repos=\"http://cran.md.tsukuba.ac.jp\")\n",
    "install.packages(\"poLCA\", dependencies = TRUE)\n",
    "```\n",
    "    をやってみたが、\n",
    "\n",
    "```\n",
    "Warning message:\n",
    "\"unable to access index for repository http://cran.md.tsukuba.ac.jp/src/contrib:\n",
    "   URL 'http://cran.md.tsukuba.ac.jp/src/contrib/PACKAGES' を開けません \"Warning message:\n",
    "\"package 'poLCA' is not available (for R version 3.3.2)\"Warning message:\n",
    "\"unable to access index for repository http://cran.md.tsukuba.ac.jp/bin/windows/contrib/3.3:\n",
    "   URL 'http://cran.md.tsukuba.ac.jp/bin/windows/contrib/3.3/PACKAGES' を開けません \"\n",
    "```\n",
    "    となった。\n",
    "\n",
    "----\n",
    "\n",
    "* そこで、ローカルでRを立ち上げて、\n",
    "\n",
    "```\n",
    "> install.packages(\"poLCA\", dependencies = TRUE)\n",
    " --- このセッションで使うために、CRAN のミラーサイトを選んでください --- \n",
    " 依存対象 (dependency) ‘scatterplot3d’ もインストールします \n",
    "\n",
    " URL 'https://cran.ism.ac.jp/bin/windows/contrib/3.3/scatterplot3d_0.3-40.zip' を試しています \n",
    "Content type 'application/zip' length 309031 bytes (301 KB)\n",
    "downloaded 301 KB\n",
    "\n",
    " URL 'https://cran.ism.ac.jp/bin/windows/contrib/3.3/poLCA_1.4.1.zip' を試しています \n",
    "Content type 'application/zip' length 420567 bytes (410 KB)\n",
    "downloaded 410 KB\n",
    "\n",
    " パッケージ ‘scatterplot3d’ は無事に展開され、MD5 サムもチェックされました \n",
    " パッケージ ‘poLCA’ は無事に展開され、MD5 サムもチェックされました \n",
    "\n",
    " ダウンロードされたパッケージは、以下にあります \n",
    "        C:\\Users\\tateno\\AppData\\Local\\Temp\\RtmpQ7ldzH\\downloaded_packages \n",
    "> \n",
    "```\n",
    "\n",
    "    となった。\n",
    "\n",
    "----\n",
    "\n",
    "* そこで\n",
    "\n",
    "```\n",
    "options(repos=\"https://cran.ism.ac.jp\")\n",
    "install.packages(\"poLCA\", dependencies = TRUE)\n",
    "```\n",
    "    とすると、\n",
    "\n",
    "```\n",
    "also installing the dependency 'scatterplot3d'\n",
    "\n",
    "package 'scatterplot3d' successfully unpacked and MD5 sums checked\n",
    "package 'poLCA' successfully unpacked and MD5 sums checked\n",
    "\n",
    "The downloaded binary packages are in\n",
    "\tC:\\Users\\tateno\\AppData\\Local\\Temp\\RtmpiMMKKB\\downloaded_packages\n",
    "```\n",
    "    となってうまくいった。"
   ]
  },
  {
   "cell_type": "markdown",
   "metadata": {},
   "source": [
    "* 残りのパッケージもインストールする。\n",
    "\n",
    "```\n",
    "install.packages(\"xlsx\", dependencies = TRUE)\n",
    "----\n",
    "also installing the dependencies 'rJava', 'xlsxjars'\n",
    "\n",
    "package 'rJava' successfully unpacked and MD5 sums checked\n",
    "package 'xlsxjars' successfully unpacked and MD5 sums checked\n",
    "package 'xlsx' successfully unpacked and MD5 sums checked\n",
    "\n",
    "The downloaded binary packages are in\n",
    "\tC:\\Users\\tateno\\AppData\\Local\\Temp\\RtmpET0rSG\\downloaded_packages\n",
    "```\n",
    "\n",
    "----\n",
    "\n",
    "```\n",
    "#install.packages(\"openxlsx\", repos=\"https://cran.ism.ac.jp\")\n",
    "#library(openxlsx)　　#ライブラリーの読み込み\n",
    "```"
   ]
  },
  {
   "cell_type": "markdown",
   "metadata": {},
   "source": [
    "## 1. 使用するパッケージをインストールする。"
   ]
  },
  {
   "cell_type": "code",
   "execution_count": null,
   "metadata": {},
   "outputs": [],
   "source": [
    "options(repos=\"https://cran.ism.ac.jp\")\n",
    "install.packages(\"poLCA\", dependencies = TRUE)\n",
    "install.packages(\"openxlsx\", dependencies = TRUE)"
   ]
  },
  {
   "cell_type": "code",
   "execution_count": null,
   "metadata": {},
   "outputs": [],
   "source": [
    "#潜在クラス分析テスト　←2017/7/3\n",
    "library(poLCA)\n",
    "#library(xlsx)　　#ライブラリーの読み込み\n",
    "library(openxlsx)"
   ]
  },
  {
   "cell_type": "code",
   "execution_count": null,
   "metadata": {
    "collapsed": true
   },
   "outputs": [],
   "source": [
    "# ヘルプで確認\n",
    "?read.xlsx"
   ]
  },
  {
   "cell_type": "code",
   "execution_count": null,
   "metadata": {
    "collapsed": true
   },
   "outputs": [],
   "source": [
    "# openxlsxの場合\n",
    "m1<-read.xlsx(\"data/foundation_0_htext_fa3_d3w20n100e200f1_E.xlsx\", sheet = 1)\n",
    "\n",
    "# xlsxの場合\n",
    "#m1<-read.xlsx(\"data/foundation_0_htext_fa3_d3w20n100e200f1_E.xlsx\",encoding=\"UTF-8\", sheetIndex=1)"
   ]
  },
  {
   "cell_type": "code",
   "execution_count": null,
   "metadata": {},
   "outputs": [],
   "source": [
    "head(m1)"
   ]
  },
  {
   "cell_type": "markdown",
   "metadata": {},
   "source": [
    "## 2. 列名のリストを作成し、fを形成する。\n",
    "[r - The difference between concatenating character strings with paste() vs. cat()? - Stack Overflow](https://stackoverflow.com/questions/12775085/the-difference-between-concatenating-character-strings-with-paste-vs-cat)  \n",
    "[eval 関数の使い方](https://stats.biopapyrus.jp/r/devel/eval.html)  "
   ]
  },
  {
   "cell_type": "code",
   "execution_count": null,
   "metadata": {},
   "outputs": [],
   "source": [
    "source('progs/poLCA.R')\n",
    "\n",
    "colnames_chars <- set_colnames_chars(m1)\n",
    "#colnames_chars\n",
    "eval(parse(text = colnames_chars))\n",
    "f"
   ]
  },
  {
   "cell_type": "markdown",
   "metadata": {},
   "source": [
    "[R出力の記録 - RjpWiki](http://www.okadajp.org/RWiki/?R%E5%87%BA%E5%8A%9B%E3%81%AE%E8%A8%98%E9%8C%B2)"
   ]
  },
  {
   "cell_type": "code",
   "execution_count": null,
   "metadata": {
    "collapsed": true
   },
   "outputs": [],
   "source": [
    "# help\n",
    "?poLCA"
   ]
  },
  {
   "cell_type": "markdown",
   "metadata": {},
   "source": [
    "[write(リスト名, \"出力するファイルのパス\", append = T, ncolumns = 一行の要素の数)](http://cse.naro.affrc.go.jp/takezawa/r-tips/r/45.html)"
   ]
  },
  {
   "cell_type": "markdown",
   "metadata": {},
   "source": [
    "## 4. poLCAを実行する。"
   ]
  },
  {
   "cell_type": "code",
   "execution_count": null,
   "metadata": {},
   "outputs": [],
   "source": [
    "M2 <- poLCA(f,m1,nclass=4, graph=TRUE) #nclassでクラス数を指定"
   ]
  },
  {
   "cell_type": "markdown",
   "metadata": {},
   "source": [
    "## 5. 上記4と同じ処理を実行し、実行結果をファイルに書き出す。"
   ]
  },
  {
   "cell_type": "code",
   "execution_count": null,
   "metadata": {
    "collapsed": true
   },
   "outputs": [],
   "source": [
    "t=capture.output(M2 <- poLCA(f,m1,nclass=4)) #nclassでクラス数を指定\n",
    "write(t, file=\"data/M2.txt\")"
   ]
  },
  {
   "cell_type": "markdown",
   "metadata": {},
   "source": [
    "[What is the meaning of the dollar sign \"$\" in R function()? - Stack Overflow](https://stackoverflow.com/questions/42560090/what-is-the-meaning-of-the-dollar-sign-in-r-function)"
   ]
  },
  {
   "cell_type": "code",
   "execution_count": null,
   "metadata": {},
   "outputs": [],
   "source": [
    "getwd()"
   ]
  },
  {
   "cell_type": "markdown",
   "metadata": {},
   "source": [
    "## 6. クラス数を1～5まで変えて、最適なクラス数を見つける"
   ]
  },
  {
   "cell_type": "code",
   "execution_count": null,
   "metadata": {},
   "outputs": [],
   "source": [
    "source('progs/poLCA.R')\n",
    "\n",
    "#適正クラス数の調査＆グラフ化（ネットより入手）\n",
    "minc <- 1 #最小クラス数\n",
    "maxc <- 5 #最大クラス数\n",
    "pol.out <- matrix(0, maxc, 5)\n",
    "maxiter <- 100000\n",
    "# 計算にかなり時間がかかるので注意\n",
    "pol.out <- calc_pol(\"data/M3.txt\", minc, maxc, maxiter, pol.out)\n",
    "pol.out"
   ]
  },
  {
   "cell_type": "code",
   "execution_count": null,
   "metadata": {},
   "outputs": [],
   "source": [
    "pol.out[,1:3]"
   ]
  },
  {
   "cell_type": "code",
   "execution_count": null,
   "metadata": {
    "collapsed": true
   },
   "outputs": [],
   "source": [
    "#write(pol.out, file=\"data/polout.txt\")\n",
    "write.table(pol.out[,1:3], \"data/polout.txt\")"
   ]
  },
  {
   "cell_type": "code",
   "execution_count": null,
   "metadata": {},
   "outputs": [],
   "source": [
    "source('progs/poLCA.R')\n",
    "draw_AIC_BIC_CAIC(minc, maxc)"
   ]
  },
  {
   "cell_type": "markdown",
   "metadata": {},
   "source": [
    "## ここでpoLCA_Pyにもどる\n",
    "[poLCA_Py](poLCA_Py.ipynb#7.-Rで処理)"
   ]
  },
  {
   "cell_type": "markdown",
   "metadata": {},
   "source": [
    "# 参考\n",
    "* Estimated class population shares\n",
    "    * [RのpoLCAパッケージで潜在クラス分析を行う - 井出草平の研究ノート](http://ides.hatenablog.com/entry/2017/06/21/145338)\n",
    "* polca statistics\n",
    "    * [Example for a latent class analysis with the poLCA-package in R - ahoi data](http://statistics.ohlsen-web.de/latent-class-analysis-polca/)\n",
    "* Conditional item response (column) probabilities\n",
    "    * [lca2013.pdf](http://users.stat.umn.edu/~sandy/courses/8053/handouts/lca2013.pdf)\n",
    "* [R のグラフはベクタ（ベクトル）画像で出力すべきたった１つの理由](http://rstudio-pubs-static.s3.amazonaws.com/3329_37cff1e3150d4002bb3dee7dc88e0bf3.html)"
   ]
  }
 ],
 "metadata": {
  "kernelspec": {
   "display_name": "R",
   "language": "R",
   "name": "ir"
  },
  "language_info": {
   "codemirror_mode": "r",
   "file_extension": ".r",
   "mimetype": "text/x-r-source",
   "name": "R",
   "pygments_lexer": "r",
   "version": "3.3.2"
  }
 },
 "nbformat": 4,
 "nbformat_minor": 2
}
