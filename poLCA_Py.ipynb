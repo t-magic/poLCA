{
 "cells": [
  {
   "cell_type": "markdown",
   "metadata": {},
   "source": [
    "# poLCA_Py\n",
    "## Polytomous variable Latent Class Analysis\n",
    "(多分岐可変潜在クラス分析)"
   ]
  },
  {
   "cell_type": "markdown",
   "metadata": {},
   "source": [
    "Rでは、列名に日本語が入っていると、場合によってエラーになってしまう。たとえば、「予測」が入るとうまくいかなくなる。\n",
    "そこで、Pythonで列名を置き換えることにする。"
   ]
  },
  {
   "cell_type": "markdown",
   "metadata": {},
   "source": [
    "[autoreload — IPython 6.1.0 documentation](http://ipython.readthedocs.io/en/stable/config/extensions/autoreload.html?highlight=autoreload)  \n",
    "\n",
    "%autoreload 1  \n",
    "Reload all modules imported with %aimport every time before executing the Python code typed.  \n",
    "\n",
    "%autoreload 2  \n",
    "Reload all modules (except those excluded by %aimport) every time before executing the Python code typed.  "
   ]
  },
  {
   "cell_type": "code",
   "execution_count": null,
   "metadata": {},
   "outputs": [],
   "source": [
    "%load_ext autoreload"
   ]
  },
  {
   "cell_type": "code",
   "execution_count": null,
   "metadata": {
    "collapsed": true
   },
   "outputs": [],
   "source": [
    "%autoreload 2"
   ]
  },
  {
   "cell_type": "markdown",
   "metadata": {},
   "source": [
    "## 1. 原文表を読み込む"
   ]
  },
  {
   "cell_type": "code",
   "execution_count": null,
   "metadata": {
    "collapsed": true
   },
   "outputs": [],
   "source": [
    "import codecs\n",
    "import pandas as pd\n",
    "import sys\n",
    "sys.path.append('progs')\n",
    "from poLCA import *"
   ]
  },
  {
   "cell_type": "code",
   "execution_count": null,
   "metadata": {},
   "outputs": [],
   "source": [
    "xlsx_file_name = 'data/foundation_0_htext_fa3_d3w20n100e200f1.xlsx'\n",
    "df = pd.read_excel(xlsx_file_name)\n",
    "df.head()"
   ]
  },
  {
   "cell_type": "markdown",
   "metadata": {},
   "source": [
    "## 2. 不要な列を削除する"
   ]
  },
  {
   "cell_type": "code",
   "execution_count": null,
   "metadata": {
    "collapsed": true
   },
   "outputs": [],
   "source": [
    "df.drop(\"番号\", axis=1, inplace=True)\n",
    "df.drop(\"コメント(FA)\", axis=1, inplace=True)\n",
    "df.head()"
   ]
  },
  {
   "cell_type": "markdown",
   "metadata": {},
   "source": [
    "## 3. 列名を後で使用するためにとっておく"
   ]
  },
  {
   "cell_type": "code",
   "execution_count": null,
   "metadata": {
    "collapsed": true
   },
   "outputs": [],
   "source": [
    "original_df_columns = df.columns\n",
    "original_df_columns"
   ]
  },
  {
   "cell_type": "code",
   "execution_count": null,
   "metadata": {
    "collapsed": true
   },
   "outputs": [],
   "source": [
    "len(df.columns)"
   ]
  },
  {
   "cell_type": "markdown",
   "metadata": {},
   "source": [
    "## 4. Rで処理をするために列名をA1から始まるものにする"
   ]
  },
  {
   "cell_type": "code",
   "execution_count": null,
   "metadata": {
    "collapsed": true
   },
   "outputs": [],
   "source": [
    "subst_colname_list = []\n",
    "for i in range(len(df.columns)):\n",
    "    subst_colname_list.append('A' + str(i + 1))\n",
    "subst_colname_list\n",
    "df.columns = subst_colname_list\n",
    "df.columns"
   ]
  },
  {
   "cell_type": "markdown",
   "metadata": {},
   "source": [
    "## 5. 0と1からなる疎行列の値に1を足し、1と2からなる行列にする"
   ]
  },
  {
   "cell_type": "code",
   "execution_count": null,
   "metadata": {
    "collapsed": true
   },
   "outputs": [],
   "source": [
    "df = df + 1\n",
    "df.head()"
   ]
  },
  {
   "cell_type": "markdown",
   "metadata": {},
   "source": [
    "## 6. Rで処理するためにデータフレームをファイル (_E.xlsx) に書き出す"
   ]
  },
  {
   "cell_type": "code",
   "execution_count": null,
   "metadata": {
    "collapsed": true
   },
   "outputs": [],
   "source": [
    "writer = pd.ExcelWriter(xlsx_file_name.replace(\".xlsx\", \"_E.xlsx\"))\n",
    "df.to_excel(writer,'Sheet1')\n",
    "writer.save()"
   ]
  },
  {
   "cell_type": "markdown",
   "metadata": {},
   "source": [
    "## 7. Rで処理\n",
    "1. [poLCA_R.ipynbに行く](poLCA_R.ipynb)\n",
    "1. 戻ってきてここから下を処理する"
   ]
  },
  {
   "cell_type": "markdown",
   "metadata": {},
   "source": [
    "## 8. Rでの分析結果を集計表に書き出す"
   ]
  },
  {
   "cell_type": "code",
   "execution_count": null,
   "metadata": {
    "collapsed": true
   },
   "outputs": [],
   "source": [
    "M3_file = 'data/M3.txt'\n",
    "polout_file = 'data/polout.txt'\n",
    "xlsx_file = 'data/M3.xlsx'\n",
    "m3_to_xlsx(M3_file, polout_file, original_df_columns, xlsx_file)"
   ]
  },
  {
   "cell_type": "markdown",
   "metadata": {
    "collapsed": true
   },
   "source": [
    "## 8. data/M3.xlsx を開く\n",
    "[data/M3.xlsx](data/M3.xlsx)"
   ]
  },
  {
   "cell_type": "markdown",
   "metadata": {},
   "source": [
    "[python - xlsxwriter and xlwt: Writing a list of strings to a cell - Stack Overflow](https://stackoverflow.com/questions/25883017/xlsxwriter-and-xlwt-writing-a-list-of-strings-to-a-cell)"
   ]
  }
 ],
 "metadata": {
  "kernelspec": {
   "display_name": "Python 3",
   "language": "python",
   "name": "python3"
  },
  "language_info": {
   "codemirror_mode": {
    "name": "ipython",
    "version": 3
   },
   "file_extension": ".py",
   "mimetype": "text/x-python",
   "name": "python",
   "nbconvert_exporter": "python",
   "pygments_lexer": "ipython3",
   "version": "3.5.3"
  }
 },
 "nbformat": 4,
 "nbformat_minor": 2
}
